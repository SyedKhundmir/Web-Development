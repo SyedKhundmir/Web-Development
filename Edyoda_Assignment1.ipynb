{
 "cells": [
  {
   "cell_type": "code",
   "execution_count": 30,
   "metadata": {},
   "outputs": [],
   "source": [
    "# help(np.zeros)"
   ]
  },
  {
   "cell_type": "code",
   "execution_count": 31,
   "metadata": {},
   "outputs": [
    {
     "data": {
      "text/plain": [
       "array([0, 0, 0, 0, 1, 0, 0, 0, 0, 0])"
      ]
     },
     "execution_count": 31,
     "metadata": {},
     "output_type": "execute_result"
    }
   ],
   "source": [
    "# 1.Create a null vector of size 10 but the fifth value which is 1.\n",
    "import numpy as np\n",
    "myvec = np.zeros(shape = 10,dtype = int)\n",
    "myvec[4] = 1\n",
    "myvec"
   ]
  },
  {
   "cell_type": "code",
   "execution_count": 46,
   "metadata": {},
   "outputs": [],
   "source": [
    "# help(np.arange)"
   ]
  },
  {
   "cell_type": "code",
   "execution_count": 44,
   "metadata": {},
   "outputs": [
    {
     "data": {
      "text/plain": [
       "array([10, 11, 12, 13, 14, 15, 16, 17, 18, 19, 20, 21, 22, 23, 24, 25, 26,\n",
       "       27, 28, 29, 30, 31, 32, 33, 34, 35, 36, 37, 38, 39, 40, 41, 42, 43,\n",
       "       44, 45, 46, 47, 48, 49])"
      ]
     },
     "execution_count": 44,
     "metadata": {},
     "output_type": "execute_result"
    }
   ],
   "source": [
    "# 2.Create a vector with values ranging from 10 to 49\n",
    "myvec3 = np.arange(start = 10,stop = 50,step = 1,dtype = int)\n",
    "myvec3"
   ]
  },
  {
   "cell_type": "code",
   "execution_count": 71,
   "metadata": {},
   "outputs": [
    {
     "name": "stdout",
     "output_type": "stream",
     "text": [
      "Matrix is of type 3X3\n"
     ]
    },
    {
     "data": {
      "text/plain": [
       "array([[0, 1, 2],\n",
       "       [3, 4, 5],\n",
       "       [6, 7, 8]])"
      ]
     },
     "execution_count": 71,
     "metadata": {},
     "output_type": "execute_result"
    }
   ],
   "source": [
    "# 3.Create a 3x3 matrix with values ranging from 0 to 8\n",
    "mymatrix = np.array(object = [[0,1,2],\n",
    "                  [3,4,5],\n",
    "                  [6,7,8]],dtype = int)\n",
    "print(\"Matrix is of type\",str(mymatrix.shape[0])+\"X\"+str(mymatrix.shape[1]))\n",
    "mymatrix"
   ]
  },
  {
   "cell_type": "code",
   "execution_count": 60,
   "metadata": {},
   "outputs": [],
   "source": [
    "# help(np.full)\n",
    "# help(np.array)\n",
    "# help(np.where)"
   ]
  },
  {
   "cell_type": "code",
   "execution_count": 80,
   "metadata": {},
   "outputs": [
    {
     "data": {
      "text/plain": [
       "(array([0, 1, 4], dtype=int32),)"
      ]
     },
     "execution_count": 80,
     "metadata": {},
     "output_type": "execute_result"
    }
   ],
   "source": [
    "# 4.Find indices of non-zero elements from [1,2,0,0,4,0]\n",
    "myvec4 = np.array(object = [1,2,0,0,4,0],dtype = int)\n",
    "myindexes = np.where(myvec4 > 0)\n",
    "myindexes"
   ]
  },
  {
   "cell_type": "code",
   "execution_count": 101,
   "metadata": {},
   "outputs": [],
   "source": [
    "# # dir(np)\n",
    "# help(np.random.randint)"
   ]
  },
  {
   "cell_type": "code",
   "execution_count": 100,
   "metadata": {},
   "outputs": [
    {
     "name": "stdout",
     "output_type": "stream",
     "text": [
      "Minimum Value is  1\n",
      "Maximum Value is  149\n"
     ]
    },
    {
     "data": {
      "text/plain": [
       "array([[ 37, 140,  72, 137, 133,  79, 144, 129,  71, 134],\n",
       "       [ 25,  20, 101, 146, 139, 142,  50,  68,  96,  86],\n",
       "       [141, 137,   7,  63,  61,  22,  57,   1, 128,  60],\n",
       "       [  8, 141, 115, 121,  30,  71, 131, 149,  49,  57],\n",
       "       [  3,  24,  43,  76,  26,  52,  80, 109, 115,  41],\n",
       "       [ 15,  64,  25, 111, 135,  26, 104,  22,   9, 126],\n",
       "       [ 23, 125, 100,  57,  83, 136,  32,  10,  23, 143],\n",
       "       [ 87,  25,  92,  74,  46,  65, 113,  77,   3, 128],\n",
       "       [  6,  52,   2,  76, 149,   7,  77,  75,  76,  43],\n",
       "       [ 20,  30,  36, 103,   7,  45,  57,  96,  13,  10]])"
      ]
     },
     "execution_count": 100,
     "metadata": {},
     "output_type": "execute_result"
    }
   ],
   "source": [
    "# 5.Create a 10x10 array with random values and find the minimum and maximum values.\n",
    "np.random.seed(1)\n",
    "myarr1 = np.random.randint(low = 0,high = 150,size = (10,10),dtype = int)\n",
    "print(\"Minimum Value is \",myarr1.min())\n",
    "print(\"Maximum Value is \",myarr1.max())\n",
    "myarr1"
   ]
  },
  {
   "cell_type": "code",
   "execution_count": 104,
   "metadata": {},
   "outputs": [
    {
     "name": "stdout",
     "output_type": "stream",
     "text": [
      "Mean of 30 values is 102.1\n"
     ]
    },
    {
     "data": {
      "text/plain": [
       "array([ 37, 140,  72, 137, 133,  79, 192, 144, 129,  71, 134,  25, 178,\n",
       "        20, 101, 146, 139, 156, 157, 142,  50,  68,  96,  86, 141, 137,\n",
       "         7,  63,  61,  22])"
      ]
     },
     "execution_count": 104,
     "metadata": {},
     "output_type": "execute_result"
    }
   ],
   "source": [
    "# 6.Create a random vector of size 30 and find the mean value.\n",
    "np.random.seed(1)\n",
    "myvec5 = np.random.randint(low = 0,high = 200,size = 30,dtype = int)\n",
    "print(\"Mean of 30 values is\",myvec5.mean())\n",
    "myvec5"
   ]
  }
 ],
 "metadata": {
  "kernelspec": {
   "display_name": "Python 3",
   "language": "python",
   "name": "python3"
  },
  "language_info": {
   "codemirror_mode": {
    "name": "ipython",
    "version": 3
   },
   "file_extension": ".py",
   "mimetype": "text/x-python",
   "name": "python",
   "nbconvert_exporter": "python",
   "pygments_lexer": "ipython3",
   "version": "3.8.5"
  }
 },
 "nbformat": 4,
 "nbformat_minor": 4
}
